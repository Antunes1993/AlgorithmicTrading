{
 "cells": [
  {
   "cell_type": "markdown",
   "id": "64ee96af",
   "metadata": {},
   "source": [
    "# Importing Modules"
   ]
  },
  {
   "cell_type": "code",
   "execution_count": 10,
   "id": "ea69d0b6",
   "metadata": {},
   "outputs": [],
   "source": [
    "import pandas as pd\n",
    "import numpy as np \n",
    "import xlsxwriter \n",
    "import requests\n",
    "import math"
   ]
  },
  {
   "cell_type": "markdown",
   "id": "586fd4cf",
   "metadata": {},
   "source": [
    "# Obtaining Stock Information"
   ]
  },
  {
   "cell_type": "code",
   "execution_count": 11,
   "id": "33fe2a38",
   "metadata": {},
   "outputs": [
    {
     "data": {
      "text/html": [
       "<div>\n",
       "<style scoped>\n",
       "    .dataframe tbody tr th:only-of-type {\n",
       "        vertical-align: middle;\n",
       "    }\n",
       "\n",
       "    .dataframe tbody tr th {\n",
       "        vertical-align: top;\n",
       "    }\n",
       "\n",
       "    .dataframe thead th {\n",
       "        text-align: right;\n",
       "    }\n",
       "</style>\n",
       "<table border=\"1\" class=\"dataframe\">\n",
       "  <thead>\n",
       "    <tr style=\"text-align: right;\">\n",
       "      <th></th>\n",
       "      <th>Ticker</th>\n",
       "    </tr>\n",
       "  </thead>\n",
       "  <tbody>\n",
       "    <tr>\n",
       "      <th>0</th>\n",
       "      <td>AAP</td>\n",
       "    </tr>\n",
       "    <tr>\n",
       "      <th>1</th>\n",
       "      <td>AAPL</td>\n",
       "    </tr>\n",
       "    <tr>\n",
       "      <th>2</th>\n",
       "      <td>ABBV</td>\n",
       "    </tr>\n",
       "    <tr>\n",
       "      <th>3</th>\n",
       "      <td>ABC</td>\n",
       "    </tr>\n",
       "    <tr>\n",
       "      <th>4</th>\n",
       "      <td>ABMD</td>\n",
       "    </tr>\n",
       "  </tbody>\n",
       "</table>\n",
       "</div>"
      ],
      "text/plain": [
       "  Ticker\n",
       "0    AAP\n",
       "1   AAPL\n",
       "2   ABBV\n",
       "3    ABC\n",
       "4   ABMD"
      ]
     },
     "execution_count": 11,
     "metadata": {},
     "output_type": "execute_result"
    }
   ],
   "source": [
    "stocks = pd.read_csv('sp_500_stocks.csv')\n",
    "#type(stocks)\n",
    "stocks.head()"
   ]
  },
  {
   "cell_type": "markdown",
   "id": "f7bf4a12",
   "metadata": {},
   "source": [
    "# Acquiring an API Token"
   ]
  },
  {
   "cell_type": "code",
   "execution_count": 12,
   "id": "2e90aaaa",
   "metadata": {},
   "outputs": [],
   "source": [
    "IEX_CLOUD_API_TOKEN = 'Tpk_059b97af715d417d9f49f50b51b1c448'"
   ]
  },
  {
   "cell_type": "markdown",
   "id": "2017dd88",
   "metadata": {},
   "source": [
    "# Making our first API Call"
   ]
  },
  {
   "cell_type": "code",
   "execution_count": 13,
   "id": "e57febb9",
   "metadata": {},
   "outputs": [
    {
     "name": "stdout",
     "output_type": "stream",
     "text": [
      "{'avgTotalVolume': 58889141, 'calculationPrice': 'tops', 'change': -0.4, 'changePercent': -0.0035, 'close': 0, 'closeSource': 'ocaififl', 'closeTime': None, 'companyName': 'Amazon.com Inc.', 'currency': 'USD', 'delayedPrice': None, 'delayedPriceTime': None, 'extendedChange': None, 'extendedChangePercent': None, 'extendedPrice': None, 'extendedPriceTime': None, 'high': 0, 'highSource': None, 'highTime': None, 'iexAskPrice': 117.3, 'iexAskSize': 110, 'iexBidPrice': 117.78, 'iexBidSize': 208, 'iexClose': 119.6, 'iexCloseTime': 1744405187019, 'iexLastUpdated': 1724859672021, 'iexMarketPercent': 0.02540823661933146, 'iexOpen': 119.37, 'iexOpenTime': 1747299264827, 'iexRealtimePrice': 119.1, 'iexRealtimeSize': 102, 'iexVolume': 923114, 'lastTradeTime': 1747452095702, 'latestPrice': 118.3, 'latestSource': 'IEX real time price', 'latestTime': '3:09:31 PM', 'latestUpdate': 1702639395658, 'latestVolume': None, 'low': 0, 'lowSource': None, 'lowTime': None, 'marketCap': 1168618083970, 'oddLotDelayedPrice': None, 'oddLotDelayedPriceTime': None, 'open': 0, 'openTime': None, 'openSource': 'fcoliifa', 'peRatio': 102.72, 'previousClose': 116.8, 'previousVolume': 61279423, 'primaryExchange': 'QDANAS', 'symbol': 'AMZN', 'volume': None, 'week52High': 192.64, 'week52Low': 105.14, 'ytdChange': -0.3229682079660387, 'isUSMarketOpen': True}\n"
     ]
    }
   ],
   "source": [
    "symbol = 'AMZN'\n",
    "api_url = f'https://sandbox.iexapis.com/stable/stock/{symbol}/quote?token={IEX_CLOUD_API_TOKEN}'\n",
    "data = requests.get(api_url).json()\n",
    "\n",
    "print(data)"
   ]
  },
  {
   "cell_type": "markdown",
   "id": "4feeb7ea",
   "metadata": {},
   "source": [
    "# Parsing our API Call"
   ]
  },
  {
   "cell_type": "code",
   "execution_count": 14,
   "id": "cf403463",
   "metadata": {},
   "outputs": [
    {
     "data": {
      "text/plain": [
       "('Amazon.com Inc.', 118.3)"
      ]
     },
     "execution_count": 14,
     "metadata": {},
     "output_type": "execute_result"
    }
   ],
   "source": [
    "price = data['latestPrice']\n",
    "company_name = data['companyName']\n",
    "\n",
    "company_name, price"
   ]
  },
  {
   "cell_type": "markdown",
   "id": "46273831",
   "metadata": {},
   "source": [
    "# Adding our stocks data to a pandas dataframe"
   ]
  },
  {
   "cell_type": "code",
   "execution_count": 15,
   "id": "3c245ec7",
   "metadata": {},
   "outputs": [
    {
     "data": {
      "text/html": [
       "<div>\n",
       "<style scoped>\n",
       "    .dataframe tbody tr th:only-of-type {\n",
       "        vertical-align: middle;\n",
       "    }\n",
       "\n",
       "    .dataframe tbody tr th {\n",
       "        vertical-align: top;\n",
       "    }\n",
       "\n",
       "    .dataframe thead th {\n",
       "        text-align: right;\n",
       "    }\n",
       "</style>\n",
       "<table border=\"1\" class=\"dataframe\">\n",
       "  <thead>\n",
       "    <tr style=\"text-align: right;\">\n",
       "      <th></th>\n",
       "      <th>Ticker</th>\n",
       "      <th>Company Name</th>\n",
       "      <th>Stock Price</th>\n",
       "      <th>Number of Shares to Buy</th>\n",
       "    </tr>\n",
       "  </thead>\n",
       "  <tbody>\n",
       "  </tbody>\n",
       "</table>\n",
       "</div>"
      ],
      "text/plain": [
       "Empty DataFrame\n",
       "Columns: [Ticker, Company Name, Stock Price, Number of Shares to Buy]\n",
       "Index: []"
      ]
     },
     "execution_count": 15,
     "metadata": {},
     "output_type": "execute_result"
    }
   ],
   "source": [
    "my_columns = ['Ticker','Company Name', 'Stock Price', 'Number of Shares to Buy']\n",
    "final_dataframe = pd.DataFrame(columns = my_columns)\n",
    "final_dataframe"
   ]
  },
  {
   "cell_type": "code",
   "execution_count": 16,
   "id": "2397fe03",
   "metadata": {},
   "outputs": [
    {
     "data": {
      "text/html": [
       "<div>\n",
       "<style scoped>\n",
       "    .dataframe tbody tr th:only-of-type {\n",
       "        vertical-align: middle;\n",
       "    }\n",
       "\n",
       "    .dataframe tbody tr th {\n",
       "        vertical-align: top;\n",
       "    }\n",
       "\n",
       "    .dataframe thead th {\n",
       "        text-align: right;\n",
       "    }\n",
       "</style>\n",
       "<table border=\"1\" class=\"dataframe\">\n",
       "  <thead>\n",
       "    <tr style=\"text-align: right;\">\n",
       "      <th></th>\n",
       "      <th>Ticker</th>\n",
       "      <th>Company Name</th>\n",
       "      <th>Stock Price</th>\n",
       "      <th>Number of Shares to Buy</th>\n",
       "    </tr>\n",
       "  </thead>\n",
       "  <tbody>\n",
       "    <tr>\n",
       "      <th>0</th>\n",
       "      <td>AMZN</td>\n",
       "      <td>Amazon.com Inc.</td>\n",
       "      <td>118.3</td>\n",
       "      <td>N/A</td>\n",
       "    </tr>\n",
       "  </tbody>\n",
       "</table>\n",
       "</div>"
      ],
      "text/plain": [
       "  Ticker     Company Name  Stock Price Number of Shares to Buy\n",
       "0   AMZN  Amazon.com Inc.        118.3                     N/A"
      ]
     },
     "execution_count": 16,
     "metadata": {},
     "output_type": "execute_result"
    }
   ],
   "source": [
    "final_dataframe.append(\n",
    "        pd.Series(\n",
    "            [\n",
    "                symbol,\n",
    "                \n",
    "                company_name,\n",
    "                \n",
    "                price,\n",
    "                'N/A'\n",
    "            ],\n",
    "            index = my_columns\n",
    "            ), \n",
    "            ignore_index=True )\n"
   ]
  },
  {
   "cell_type": "markdown",
   "id": "1b78e0a2",
   "metadata": {},
   "source": [
    "# Looping Through The Tickers in Our List of Stocks"
   ]
  },
  {
   "cell_type": "code",
   "execution_count": 17,
   "id": "0a87ec51",
   "metadata": {},
   "outputs": [
    {
     "data": {
      "text/plain": [
       "\"\\nfinal_dataframe = pd.DataFrame(columns = my_columns)\\nfor stock in stocks['Ticker']:    \\n    api_url = f'https://sandbox.iexapis.com/stable/stock/{stock}/quote?token={IEX_CLOUD_API_TOKEN}'\\n    data = requests.get(api_url).json()\\n    final_dataframe = final_dataframe.append(\\n    pd.Series(\\n    [\\n        stock,\\n        data['latestPrice'],\\n        'N/A'\\n    ],\\n    index = my_columns),\\n    ignore_index = True)\\n    \\n    final_dataframe.head()\\n    \""
      ]
     },
     "execution_count": 17,
     "metadata": {},
     "output_type": "execute_result"
    }
   ],
   "source": [
    "# In the future I'll add batch API Request for speed improvement.\n",
    "'''\n",
    "final_dataframe = pd.DataFrame(columns = my_columns)\n",
    "for stock in stocks['Ticker']:    \n",
    "    api_url = f'https://sandbox.iexapis.com/stable/stock/{stock}/quote?token={IEX_CLOUD_API_TOKEN}'\n",
    "    data = requests.get(api_url).json()\n",
    "    final_dataframe = final_dataframe.append(\n",
    "    pd.Series(\n",
    "    [\n",
    "        stock,\n",
    "        data['latestPrice'],\n",
    "        'N/A'\n",
    "    ],\n",
    "    index = my_columns),\n",
    "    ignore_index = True)\n",
    "    \n",
    "    final_dataframe.head()\n",
    "    '''"
   ]
  },
  {
   "cell_type": "markdown",
   "id": "ea2433dd",
   "metadata": {},
   "source": [
    "# Using Batch API Calls to improve performance"
   ]
  },
  {
   "cell_type": "code",
   "execution_count": 18,
   "id": "cba8b4e2",
   "metadata": {},
   "outputs": [],
   "source": [
    "#1.Split the list of tickers in sublists.\n",
    "\n",
    "#2. Using chuncks function\n",
    "#2.1. Source: https://stackoverflow.com/questions/312443/how-do-you-split-a-list-into-evenly-sized-chunks\n",
    "\n",
    "#3. See batch requests in IEX API documentation\n",
    "\n",
    "def chunks(lst,n):\n",
    "    \"\"\"Yield successive n-sized chunks from lst.\"\"\"\n",
    "    for i in range(0, len(lst), n):\n",
    "        yield lst[i : i + n]"
   ]
  },
  {
   "cell_type": "code",
   "execution_count": 19,
   "id": "4b68e471",
   "metadata": {},
   "outputs": [],
   "source": [
    "symbol_groups = list(chunks(stocks['Ticker'],100))\n",
    "symbol_strings = []\n",
    "for i in range(0, len(symbol_groups)):\n",
    "    \n",
    "    symbol_strings.append(','.join(symbol_groups[i]))\n",
    "    #print (symbol_strings[i])\n",
    "    \n",
    "final_dataframe = pd.DataFrame(columns = my_columns)\n",
    "\n",
    "for symbol_string in symbol_strings[:1]: \n",
    "    batch_api_call_url = f'https://sandbox.iexapis.com/stable/stock/market/batch?symbols={symbol_string}&types=quote&token={IEX_CLOUD_API_TOKEN}'\n",
    "    data = requests.get(batch_api_call_url).json()\n",
    "    \n",
    "    for symbol in symbol_string.split(','):\n",
    "        final_dataframe = final_dataframe.append(\n",
    "        pd.Series(\n",
    "        [\n",
    "            symbol,\n",
    "            data[symbol]['quote']['companyName'],\n",
    "            data[symbol]['quote']['latestPrice'],            \n",
    "            'N/A'\n",
    "        ],\n",
    "        index = my_columns\n",
    "        ),\n",
    "        ignore_index = True\n",
    "        )"
   ]
  },
  {
   "cell_type": "markdown",
   "id": "a440ac5c",
   "metadata": {},
   "source": [
    "# Calculating the number of shares to buy to reach portifolio_size"
   ]
  },
  {
   "cell_type": "code",
   "execution_count": 22,
   "id": "0d8e190b",
   "metadata": {},
   "outputs": [
    {
     "name": "stdout",
     "output_type": "stream",
     "text": [
      "1000.0\n",
      "   Ticker             Company Name  Stock Price Number of Shares to Buy\n",
      "95    CMA           Comerica, Inc.       74.050                      13\n",
      "96  CMCSA   Comcast Corp - Class A       30.185                      33\n",
      "97    CME  CME Group Inc - Class A      180.360                       5\n",
      "98    CMG   Chipotle Mexican Grill     1576.820                       0\n",
      "99    CMI             Cummins Inc.      206.543                       4\n"
     ]
    }
   ],
   "source": [
    "portifolio_size = 100000\n",
    "val = float(portifolio_size)\n",
    "\n",
    "position_size = val/len(final_dataframe.index)\n",
    "print(position_size)\n",
    "for i in range(0, len(final_dataframe.index)):\n",
    "    final_dataframe.loc[i, 'Number of Shares to Buy'] = math.floor(position_size/final_dataframe.loc[i,'Stock Price'])\n",
    "\n",
    "print (final_dataframe.tail())"
   ]
  },
  {
   "cell_type": "code",
   "execution_count": null,
   "id": "64a4c1ef",
   "metadata": {},
   "outputs": [],
   "source": []
  }
 ],
 "metadata": {
  "kernelspec": {
   "display_name": "Python 3",
   "language": "python",
   "name": "python3"
  },
  "language_info": {
   "codemirror_mode": {
    "name": "ipython",
    "version": 3
   },
   "file_extension": ".py",
   "mimetype": "text/x-python",
   "name": "python",
   "nbconvert_exporter": "python",
   "pygments_lexer": "ipython3",
   "version": "3.9.1"
  }
 },
 "nbformat": 4,
 "nbformat_minor": 5
}
