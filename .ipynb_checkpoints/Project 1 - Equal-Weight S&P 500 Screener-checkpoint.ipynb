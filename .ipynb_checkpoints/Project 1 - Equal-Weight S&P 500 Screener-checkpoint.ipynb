{
 "cells": [
  {
   "cell_type": "markdown",
   "id": "64ee96af",
   "metadata": {},
   "source": [
    "# Importing Modules"
   ]
  },
  {
   "cell_type": "code",
   "execution_count": 36,
   "id": "ea69d0b6",
   "metadata": {},
   "outputs": [],
   "source": [
    "import pandas as pd\n",
    "import numpy as np \n",
    "import xlsxwriter \n",
    "import requests\n",
    "import math"
   ]
  },
  {
   "cell_type": "markdown",
   "id": "586fd4cf",
   "metadata": {},
   "source": [
    "# Obtaining Stock Information"
   ]
  },
  {
   "cell_type": "code",
   "execution_count": 2,
   "id": "33fe2a38",
   "metadata": {},
   "outputs": [
    {
     "data": {
      "text/html": [
       "<div>\n",
       "<style scoped>\n",
       "    .dataframe tbody tr th:only-of-type {\n",
       "        vertical-align: middle;\n",
       "    }\n",
       "\n",
       "    .dataframe tbody tr th {\n",
       "        vertical-align: top;\n",
       "    }\n",
       "\n",
       "    .dataframe thead th {\n",
       "        text-align: right;\n",
       "    }\n",
       "</style>\n",
       "<table border=\"1\" class=\"dataframe\">\n",
       "  <thead>\n",
       "    <tr style=\"text-align: right;\">\n",
       "      <th></th>\n",
       "      <th>Ticker</th>\n",
       "    </tr>\n",
       "  </thead>\n",
       "  <tbody>\n",
       "    <tr>\n",
       "      <th>0</th>\n",
       "      <td>A</td>\n",
       "    </tr>\n",
       "    <tr>\n",
       "      <th>1</th>\n",
       "      <td>AAL</td>\n",
       "    </tr>\n",
       "    <tr>\n",
       "      <th>2</th>\n",
       "      <td>AAP</td>\n",
       "    </tr>\n",
       "    <tr>\n",
       "      <th>3</th>\n",
       "      <td>AAPL</td>\n",
       "    </tr>\n",
       "    <tr>\n",
       "      <th>4</th>\n",
       "      <td>ABBV</td>\n",
       "    </tr>\n",
       "  </tbody>\n",
       "</table>\n",
       "</div>"
      ],
      "text/plain": [
       "  Ticker\n",
       "0      A\n",
       "1    AAL\n",
       "2    AAP\n",
       "3   AAPL\n",
       "4   ABBV"
      ]
     },
     "execution_count": 2,
     "metadata": {},
     "output_type": "execute_result"
    }
   ],
   "source": [
    "stocks = pd.read_csv('sp_500_stocks.csv')\n",
    "#type(stocks)\n",
    "stocks.head()"
   ]
  },
  {
   "cell_type": "markdown",
   "id": "f7bf4a12",
   "metadata": {},
   "source": [
    "# Acquiring an API Token"
   ]
  },
  {
   "cell_type": "code",
   "execution_count": 3,
   "id": "2e90aaaa",
   "metadata": {},
   "outputs": [],
   "source": [
    "IEX_CLOUD_API_TOKEN = 'Tpk_059b97af715d417d9f49f50b51b1c448'"
   ]
  },
  {
   "cell_type": "markdown",
   "id": "2017dd88",
   "metadata": {},
   "source": [
    "# Making our first API Call"
   ]
  },
  {
   "cell_type": "code",
   "execution_count": 4,
   "id": "e57febb9",
   "metadata": {},
   "outputs": [
    {
     "name": "stdout",
     "output_type": "stream",
     "text": [
      "{'symbol': 'AAPL', 'companyName': 'Apple Inc', 'primaryExchange': 'N/GA(N O EAEKSRTTQDB S)LLMLAGCSAE', 'calculationPrice': 'iexlasttrade', 'open': 0, 'openTime': None, 'openSource': 'alfiofci', 'close': 0, 'closeTime': None, 'closeSource': 'laficifo', 'high': 0, 'highTime': None, 'highSource': None, 'low': 0, 'lowTime': None, 'lowSource': None, 'latestPrice': 131.52, 'latestSource': 'IEX Last Trade', 'latestTime': 'June 18, 2021', 'latestUpdate': 1670191461158, 'latestVolume': None, 'iexRealtimePrice': 133.8, 'iexRealtimeSize': 418, 'iexLastUpdated': 1662794647622, 'delayedPrice': None, 'delayedPriceTime': None, 'oddLotDelayedPrice': None, 'oddLotDelayedPriceTime': None, 'extendedPrice': None, 'extendedChange': None, 'extendedChangePercent': None, 'extendedPriceTime': None, 'previousClose': 136.83, 'previousVolume': 101216552, 'change': -1.43, 'changePercent': -0.0105, 'volume': None, 'iexMarketPercent': 0.01682393003652858, 'iexVolume': 1840614, 'avgTotalVolume': 75725599, 'iexBidPrice': 0, 'iexBidSize': 0, 'iexAskPrice': 0, 'iexAskSize': 0, 'iexOpen': 131.51, 'iexOpenTime': 1639953113408, 'iexClose': 136.79, 'iexCloseTime': 1630726167642, 'marketCap': 2256853176814, 'peRatio': 30, 'week52High': 150.02, 'week52Low': 89.42, 'ytdChange': -0.014281141040952674, 'lastTradeTime': 1676613997303, 'isUSMarketOpen': False}\n"
     ]
    }
   ],
   "source": [
    "symbol = 'AAPL'\n",
    "api_url = f'https://sandbox.iexapis.com/stable/stock/{symbol}/quote?token={IEX_CLOUD_API_TOKEN}'\n",
    "data = requests.get(api_url).json()\n",
    "\n",
    "print(data)"
   ]
  },
  {
   "cell_type": "markdown",
   "id": "4feeb7ea",
   "metadata": {},
   "source": [
    "# Parsing our API Call"
   ]
  },
  {
   "cell_type": "code",
   "execution_count": 5,
   "id": "cf403463",
   "metadata": {},
   "outputs": [
    {
     "data": {
      "text/plain": [
       "('Apple Inc', 131.52)"
      ]
     },
     "execution_count": 5,
     "metadata": {},
     "output_type": "execute_result"
    }
   ],
   "source": [
    "price = data['latestPrice']\n",
    "company_name = data['companyName']\n",
    "\n",
    "company_name, price"
   ]
  },
  {
   "cell_type": "markdown",
   "id": "46273831",
   "metadata": {},
   "source": [
    "# Adding our stocks data to a pandas dataframe"
   ]
  },
  {
   "cell_type": "code",
   "execution_count": 6,
   "id": "3c245ec7",
   "metadata": {},
   "outputs": [
    {
     "data": {
      "text/html": [
       "<div>\n",
       "<style scoped>\n",
       "    .dataframe tbody tr th:only-of-type {\n",
       "        vertical-align: middle;\n",
       "    }\n",
       "\n",
       "    .dataframe tbody tr th {\n",
       "        vertical-align: top;\n",
       "    }\n",
       "\n",
       "    .dataframe thead th {\n",
       "        text-align: right;\n",
       "    }\n",
       "</style>\n",
       "<table border=\"1\" class=\"dataframe\">\n",
       "  <thead>\n",
       "    <tr style=\"text-align: right;\">\n",
       "      <th></th>\n",
       "      <th>Ticker</th>\n",
       "      <th>Stock Price</th>\n",
       "      <th>Number of Shares to Buy</th>\n",
       "    </tr>\n",
       "  </thead>\n",
       "  <tbody>\n",
       "  </tbody>\n",
       "</table>\n",
       "</div>"
      ],
      "text/plain": [
       "Empty DataFrame\n",
       "Columns: [Ticker, Stock Price, Number of Shares to Buy]\n",
       "Index: []"
      ]
     },
     "execution_count": 6,
     "metadata": {},
     "output_type": "execute_result"
    }
   ],
   "source": [
    "my_columns = ['Ticker', 'Stock Price', 'Number of Shares to Buy']\n",
    "final_dataframe = pd.DataFrame(columns = my_columns)\n",
    "final_dataframe"
   ]
  },
  {
   "cell_type": "code",
   "execution_count": 7,
   "id": "2397fe03",
   "metadata": {},
   "outputs": [
    {
     "data": {
      "text/html": [
       "<div>\n",
       "<style scoped>\n",
       "    .dataframe tbody tr th:only-of-type {\n",
       "        vertical-align: middle;\n",
       "    }\n",
       "\n",
       "    .dataframe tbody tr th {\n",
       "        vertical-align: top;\n",
       "    }\n",
       "\n",
       "    .dataframe thead th {\n",
       "        text-align: right;\n",
       "    }\n",
       "</style>\n",
       "<table border=\"1\" class=\"dataframe\">\n",
       "  <thead>\n",
       "    <tr style=\"text-align: right;\">\n",
       "      <th></th>\n",
       "      <th>Ticker</th>\n",
       "      <th>Stock Price</th>\n",
       "      <th>Number of Shares to Buy</th>\n",
       "    </tr>\n",
       "  </thead>\n",
       "  <tbody>\n",
       "    <tr>\n",
       "      <th>0</th>\n",
       "      <td>AAPL</td>\n",
       "      <td>131.52</td>\n",
       "      <td>N/A</td>\n",
       "    </tr>\n",
       "  </tbody>\n",
       "</table>\n",
       "</div>"
      ],
      "text/plain": [
       "  Ticker  Stock Price Number of Shares to Buy\n",
       "0   AAPL       131.52                     N/A"
      ]
     },
     "execution_count": 7,
     "metadata": {},
     "output_type": "execute_result"
    }
   ],
   "source": [
    "final_dataframe.append(\n",
    "        pd.Series(\n",
    "            [\n",
    "                symbol,\n",
    "                \n",
    "                price,\n",
    "                'N/A'\n",
    "            ],\n",
    "            index = my_columns\n",
    "            ), \n",
    "            ignore_index=True )\n"
   ]
  },
  {
   "cell_type": "markdown",
   "id": "1b78e0a2",
   "metadata": {},
   "source": [
    "# Looping Through The Tickers in Our List of Stocks"
   ]
  },
  {
   "cell_type": "code",
   "execution_count": 8,
   "id": "0a87ec51",
   "metadata": {},
   "outputs": [
    {
     "data": {
      "text/plain": [
       "\"\\nfinal_dataframe = pd.DataFrame(columns = my_columns)\\nfor stock in stocks['Ticker']:    \\n    api_url = f'https://sandbox.iexapis.com/stable/stock/{stock}/quote?token={IEX_CLOUD_API_TOKEN}'\\n    data = requests.get(api_url).json()\\n    final_dataframe = final_dataframe.append(\\n    pd.Series(\\n    [\\n        stock,\\n        data['latestPrice'],\\n        'N/A'\\n    ],\\n    index = my_columns),\\n    ignore_index = True)\\n    \\n    final_dataframe.head()\\n    \""
      ]
     },
     "execution_count": 8,
     "metadata": {},
     "output_type": "execute_result"
    }
   ],
   "source": [
    "# In the future I'll add batch API Request for speed improvement.\n",
    "'''\n",
    "final_dataframe = pd.DataFrame(columns = my_columns)\n",
    "for stock in stocks['Ticker']:    \n",
    "    api_url = f'https://sandbox.iexapis.com/stable/stock/{stock}/quote?token={IEX_CLOUD_API_TOKEN}'\n",
    "    data = requests.get(api_url).json()\n",
    "    final_dataframe = final_dataframe.append(\n",
    "    pd.Series(\n",
    "    [\n",
    "        stock,\n",
    "        data['latestPrice'],\n",
    "        'N/A'\n",
    "    ],\n",
    "    index = my_columns),\n",
    "    ignore_index = True)\n",
    "    \n",
    "    final_dataframe.head()\n",
    "    '''"
   ]
  },
  {
   "cell_type": "markdown",
   "id": "ea2433dd",
   "metadata": {},
   "source": [
    "# Using Batch API Calls to improve performance"
   ]
  },
  {
   "cell_type": "code",
   "execution_count": 9,
   "id": "cba8b4e2",
   "metadata": {},
   "outputs": [],
   "source": [
    "#1.Split the list of tickers in sublists.\n",
    "\n",
    "#2. Using chuncks function\n",
    "#2.1. Source: https://stackoverflow.com/questions/312443/how-do-you-split-a-list-into-evenly-sized-chunks\n",
    "\n",
    "#3. See batch requests in IEX API documentation\n",
    "\n",
    "def chunks(lst,n):\n",
    "    \"\"\"Yield successive n-sized chunks from lst.\"\"\"\n",
    "    for i in range(0, len(lst), n):\n",
    "        yield lst[i : i + n]"
   ]
  },
  {
   "cell_type": "code",
   "execution_count": 15,
   "id": "4b68e471",
   "metadata": {},
   "outputs": [],
   "source": [
    "symbol_groups = list(chunks(stocks['Ticker'],100))\n",
    "symbol_strings = []\n",
    "for i in range(0, len(symbol_groups)):\n",
    "    \n",
    "    symbol_strings.append(','.join(symbol_groups[i]))\n",
    "    #print (symbol_strings[i])\n",
    "    \n",
    "final_dataframe = pd.DataFrame(columns = my_columns)\n",
    "\n",
    "for symbol_string in symbol_strings[:1]: \n",
    "    batch_api_call_url = f'https://sandbox.iexapis.com/stable/stock/market/batch?symbols={symbol_string}&types=quote&token={IEX_CLOUD_API_TOKEN}'\n",
    "    data = requests.get(batch_api_call_url).json()\n",
    "    \n",
    "    for symbol in symbol_string.split(','):\n",
    "        final_dataframe = final_dataframe.append(\n",
    "        pd.Series(\n",
    "        [\n",
    "            symbol,\n",
    "            data[symbol]['quote']['latestPrice'],\n",
    "            'N/A'\n",
    "        ],\n",
    "        index = my_columns\n",
    "        ),\n",
    "        ignore_index = True\n",
    "        )"
   ]
  },
  {
   "cell_type": "markdown",
   "id": "a440ac5c",
   "metadata": {},
   "source": [
    "# Calculating the number of shares to buy to reach portifolio_size"
   ]
  },
  {
   "cell_type": "code",
   "execution_count": 32,
   "id": "0d8e190b",
   "metadata": {},
   "outputs": [
    {
     "name": "stdout",
     "output_type": "stream",
     "text": [
      "   Ticker  Stock Price Number of Shares to Buy\n",
      "0       A       146.20                       6\n",
      "1     AAL        22.70                      44\n",
      "2     AAP       200.44                       4\n",
      "3    AAPL       130.53                       7\n",
      "4    ABBV       115.42                       8\n",
      "..    ...          ...                     ...\n",
      "95   CINF       117.64                       8\n",
      "96     CL        83.07                      12\n",
      "97    CLX       173.90                       5\n",
      "98    CMA        68.50                      14\n",
      "99  CMCSA        59.11                      16\n",
      "\n",
      "[100 rows x 3 columns]\n"
     ]
    }
   ],
   "source": [
    "portifolio_size = 100000\n",
    "val = float(portifolio_size)\n",
    "\n",
    "position_size = val/len(final_dataframe.index)\n",
    "\n",
    "for i in range(0, len(final_dataframe.index)):\n",
    "    final_dataframe.loc[i, 'Number of Shares to Buy'] = math.floor(position_size/final_dataframe.loc[i,'Stock Price'])\n",
    "\n",
    "print (final_dataframe)"
   ]
  },
  {
   "cell_type": "markdown",
   "id": "127f7329",
   "metadata": {},
   "source": [
    "# Formating our excel output"
   ]
  },
  {
   "cell_type": "code",
   "execution_count": 53,
   "id": "5893a0d1",
   "metadata": {},
   "outputs": [],
   "source": [
    "writer = pd.ExcelWriter('recommended trades.xlsx', engine='xlsxwriter')\n",
    "final_dataframe.to_excel(writer, 'Recommended Trades', index = False)"
   ]
  },
  {
   "cell_type": "markdown",
   "id": "347b5113",
   "metadata": {},
   "source": [
    "# Creating the formats we'll need to our .xlsx file. \n",
    "\n",
    "Formats include colors, fonts and also symbols like % and $. We'll need for main formats for our\n",
    "Excel document:\n",
    "\n",
    "* String format for tickers. \n",
    "* $XX.XX format for stock prices.\n",
    "* $XX.XX format for market capitalization.\n",
    "* Integer format for the number of shares to purchase."
   ]
  },
  {
   "cell_type": "code",
   "execution_count": 54,
   "id": "cd308363",
   "metadata": {},
   "outputs": [],
   "source": [
    "background_color = '#0a0a23'\n",
    "font_color = '#ffffff'\n",
    "\n",
    "string_format = writer.book.add_format(\n",
    "{\n",
    "    'font_color': font_color,\n",
    "    'bg_color': background_color,\n",
    "    'border': 1\n",
    "})\n",
    "\n",
    "dollar_format = writer.book.add_format(\n",
    "{\n",
    "    'num_format': '0.00',\n",
    "    'font_color': font_color,\n",
    "    'bg_color': background_color,\n",
    "    'border': 1\n",
    "})\n",
    "\n",
    "integer_format = writer.book.add_format(\n",
    "{\n",
    "    'num_format': '0',\n",
    "    'font_color': font_color,\n",
    "    'bg_color': background_color,\n",
    "    'border': 1\n",
    "})"
   ]
  },
  {
   "cell_type": "code",
   "execution_count": 61,
   "id": "35dab0a5",
   "metadata": {},
   "outputs": [
    {
     "data": {
      "text/plain": [
       "0"
      ]
     },
     "execution_count": 61,
     "metadata": {},
     "output_type": "execute_result"
    }
   ],
   "source": [
    "#writer.sheets['Recommended Trades'].set_column('A:A', 18, string_format)\n",
    "#writer.sheets['Recommended Trades'].set_column('B:B', 18, string_format)\n",
    "#writer.sheets['Recommended Trades'].set_column('C:C', 18, string_format)\n",
    "#writer.save()\n",
    "\n",
    "writer.sheets['Recommended Trades'].write('A1','Ticker', string_format)\n",
    "writer.sheets['Recommended Trades'].write('B1','Stock Price', dollar_format)\n",
    "writer.sheets['Recommended Trades'].write('C1','Number of Shares to Buy', integer_format)"
   ]
  },
  {
   "cell_type": "code",
   "execution_count": 63,
   "id": "bc95d0f8",
   "metadata": {},
   "outputs": [],
   "source": [
    "column_formats = {\n",
    "    'A': ['Ticker', string_format],\n",
    "    'B': ['Stock Price', dollar_format],\n",
    "    'C': ['Number of Shares to Buy', integer_format]\n",
    "}\n",
    "\n",
    "for column in column_formats.keys():\n",
    "    writer.sheets['Recommended Trades'].set_column(f'{column}:{column}', 18, column)"
   ]
  },
  {
   "cell_type": "code",
   "execution_count": null,
   "id": "62946e59",
   "metadata": {},
   "outputs": [],
   "source": [
    "writer.save()"
   ]
  }
 ],
 "metadata": {
  "kernelspec": {
   "display_name": "Python 3",
   "language": "python",
   "name": "python3"
  },
  "language_info": {
   "codemirror_mode": {
    "name": "ipython",
    "version": 3
   },
   "file_extension": ".py",
   "mimetype": "text/x-python",
   "name": "python",
   "nbconvert_exporter": "python",
   "pygments_lexer": "ipython3",
   "version": "3.9.1"
  }
 },
 "nbformat": 4,
 "nbformat_minor": 5
}
